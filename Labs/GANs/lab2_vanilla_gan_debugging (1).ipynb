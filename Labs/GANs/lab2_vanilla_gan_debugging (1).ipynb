{
  "cells": [
    {
      "cell_type": "markdown",
      "source": [
        "### Lab 2 (Mandatory)\n",
        "#### Ali Alghamdi"
      ],
      "metadata": {
        "id": "Nl6J9IU5Nf2K"
      },
      "id": "Nl6J9IU5Nf2K"
    },
    {
      "cell_type": "markdown",
      "metadata": {
        "id": "7XCT1qK9NYO8"
      },
      "source": [
        "# Lab 2: Debug a Broken Vanilla GAN (find 12+ issues)"
      ],
      "id": "7XCT1qK9NYO8"
    },
    {
      "cell_type": "markdown",
      "source": [
        "### Importing things"
      ],
      "metadata": {
        "id": "XeFpJ5IpN9Y0"
      },
      "id": "XeFpJ5IpN9Y0"
    },
    {
      "cell_type": "code",
      "source": [
        "import torch, torchvision, torch.nn as nn\n",
        "from torch.utils.data import DataLoader\n",
        "from torchvision import transforms\n",
        "from tqdm import tqdm"
      ],
      "metadata": {
        "id": "RDy20u1VOApF"
      },
      "id": "RDy20u1VOApF",
      "execution_count": 1,
      "outputs": []
    },
    {
      "cell_type": "markdown",
      "source": [
        "### Choosing the device"
      ],
      "metadata": {
        "id": "EEtOxCx5OFCS"
      },
      "id": "EEtOxCx5OFCS"
    },
    {
      "cell_type": "code",
      "source": [
        "device=torch.device('cuda' if torch.cuda.is_available() else 'cpu')"
      ],
      "metadata": {
        "id": "ur_lZD3NOHMX"
      },
      "id": "ur_lZD3NOHMX",
      "execution_count": 2,
      "outputs": []
    },
    {
      "cell_type": "code",
      "source": [
        "# Get one batch\n",
        "images, labels = next(iter(loader))\n",
        "\n",
        "print(images.shape)  # torch.Size(batch_size, channels, height, width)\n"
      ],
      "metadata": {
        "colab": {
          "base_uri": "https://localhost:8080/"
        },
        "id": "r8XOm0SrX7hG",
        "outputId": "d8f55fb8-3fca-4273-de9b-1f0ee24bcd5b"
      },
      "id": "r8XOm0SrX7hG",
      "execution_count": 6,
      "outputs": [
        {
          "output_type": "stream",
          "name": "stdout",
          "text": [
            "torch.Size([256, 1, 28, 28])\n"
          ]
        }
      ]
    },
    {
      "cell_type": "code",
      "metadata": {
        "id": "keTKOb-UNYO9"
      },
      "execution_count": 13,
      "outputs": [],
      "source": [
        "### DADGUM PEST SERVICE IS HERE 🐞🐞🐞🐞\n",
        "\n",
        "# 1 - normalization bug :\n",
        "# the GAN expects images to be normalized to [-1, 1]\n",
        "\n",
        "# 2 - resizing bug :\n",
        "# the cnn needs the images to be of one size, lets go 32\n",
        "\n",
        "IMAGE_SIZE = 32 # 28 --> 32 good size\n",
        "\n",
        "transform = transforms.Compose([\n",
        "    transforms.Resize((IMAGE_SIZE, IMAGE_SIZE)), # BUG 2 SQUISHED 🐞\n",
        "    transforms.ToTensor(),\n",
        "    transforms.Normalize((0.5,), (0.5,))  # BUG 1 SQUISHED 🐞\n",
        "])\n",
        "\n",
        "loader=DataLoader( # not exactly a bug, i just made it 5 lines instead of 1\n",
        "#   torchvision.datasets.MNIST(root,    train   download    transform)\n",
        "    torchvision.datasets.MNIST('./data',True,download=True,transform=transform),\n",
        "    batch_size=256,\n",
        "    shuffle=True,\n",
        "    num_workers=2,\n",
        "    pin_memory=True)\n",
        "\n",
        "z_dim=100\n",
        "\n",
        "# 3 - generator learning rate :\n",
        "# the generator learning rate is way too low\n",
        "\n",
        "g_lr=0.0005 # 0.02 (VERY LOW) --> 0.0002\n",
        "\n",
        "# 4 - discriminator learning rate :\n",
        "# the discriminator learning rate is way too high\n",
        "\n",
        "d_lr=0.0002 # 0.00002 (VERY HIGH) --> 0.0002\n",
        "\n",
        "\n",
        "# ----------------\n",
        "# Discriminator\n",
        "# ----------------\n",
        "\n",
        "\n",
        "class D(nn.Module):\n",
        "    def __init__(self):\n",
        "        super().__init__()\n",
        "        self.net = nn.Sequential(\n",
        "            nn.Conv2d(1, 32, kernel_size=4, stride=2, padding=1),   # 32x32 -> 16x16\n",
        "            nn.LeakyReLU(0.2, inplace=True),\n",
        "\n",
        "            nn.Conv2d(32, 64, kernel_size=4, stride=2, padding=1),  # 16x16 -> 8x8\n",
        "            nn.BatchNorm2d(64),\n",
        "            nn.LeakyReLU(0.2, inplace=True),\n",
        "\n",
        "            nn.Conv2d(64, 128, kernel_size=4, stride=2, padding=1), # 8x8 -> 4x4\n",
        "            nn.BatchNorm2d(128),\n",
        "            nn.LeakyReLU(0.2, inplace=True),\n",
        "\n",
        "            nn.Conv2d(128, 1, kernel_size=4, stride=1, padding=0),  # 4x4 -> 1x1\n",
        "            # 5 - redundant signmoid\n",
        "            # it needs to be gone cuz later we use BCE Loss which expects raw logits\n",
        "            # but i will change the bce loss itself to make it like the one in the lab\n",
        "            # i will change the BCE one to expect no logits\n",
        "            # update : ill also remove the sigmoid cuz its the 'best practice'\n",
        "            ### nn.Sigmoid()\n",
        "        )\n",
        "\n",
        "    def forward(self, x):\n",
        "        # Flatten output to (batch_size, 1)\n",
        "        return self.net(x).view(x.size(0), 1)\n",
        "\n",
        "# ----------\n",
        "# Generator\n",
        "# ----------\n",
        "\n",
        "class G(nn.Module):\n",
        "    def __init__(self):\n",
        "        super().__init__()\n",
        "        self.net = nn.Sequential(\n",
        "            nn.ConvTranspose2d(100, 128, kernel_size=4, stride=1, padding=0),  # latent z -> 4x4\n",
        "            nn.BatchNorm2d(128),\n",
        "            nn.ReLU(True),\n",
        "\n",
        "            nn.ConvTranspose2d(128, 64, kernel_size=4, stride=2, padding=1),   # 4x4 -> 8x8\n",
        "            nn.BatchNorm2d(64),\n",
        "            nn.ReLU(True),\n",
        "\n",
        "            nn.ConvTranspose2d(64, 32, kernel_size=4, stride=2, padding=1),    # 8x8 -> 16x16\n",
        "            nn.BatchNorm2d(32),\n",
        "            nn.ReLU(True),\n",
        "\n",
        "            # not exaclty a bug,, but i had to add layers to accomodate 32x32 output\n",
        "\n",
        "            nn.ConvTranspose2d(32, 1, kernel_size=4, stride=2, padding=1),     # 16x16 -> 32x32\n",
        "            # 6 - missing tanh activation\n",
        "            nn.Tanh()  # scale output to [-1,1] for GAN training\n",
        "        )\n",
        "\n",
        "    def forward(self, z):\n",
        "        # 7 - reshaping\n",
        "        # reshape z to match expected input of first ConvTranspose2d\n",
        "        # the first layer expects 100 channels not 64\n",
        "        z = z.view(z.size(0), 100, 1, 1)\n",
        "        return self.net(z)\n",
        "\n",
        "# ------\n",
        "# Device\n",
        "# ------\n",
        "device = \"cuda\" if torch.cuda.is_available() else \"cpu\"\n",
        "\n",
        "# ------------------\n",
        "# Instantiate models\n",
        "# ------------------\n",
        "Dnet = D().to(device)\n",
        "Gnet = G().to(device)\n",
        "\n",
        "# -------------------\n",
        "# Loss and optimizers\n",
        "# -------------------\n",
        "\n",
        "# 8 - changing this function instead of the sigmoid\n",
        "crit = nn.BCEWithLogitsLoss()\n",
        "\n",
        "opt_d = torch.optim.Adam(Dnet.parameters(), lr=d_lr, betas=(0.9, 0.999))\n",
        "opt_g = torch.optim.Adam(Gnet.parameters(), lr=g_lr, betas=(0.9, 0.999))\n"
      ],
      "id": "keTKOb-UNYO9"
    },
    {
      "cell_type": "code",
      "metadata": {
        "colab": {
          "base_uri": "https://localhost:8080/"
        },
        "id": "8bqb3PAPNYO-",
        "outputId": "62fadcd3-6950-42d7-c100-ebb6cbe1c649"
      },
      "execution_count": 23,
      "outputs": [
        {
          "output_type": "stream",
          "name": "stderr",
          "text": [
            "100%|██████████| 235/235 [00:14<00:00, 15.88it/s]\n"
          ]
        },
        {
          "output_type": "stream",
          "name": "stdout",
          "text": [
            "Epoch 1/500, Loss D: 0.0000, Loss G: 12.2511\n"
          ]
        },
        {
          "output_type": "stream",
          "name": "stderr",
          "text": [
            "100%|██████████| 235/235 [00:14<00:00, 16.13it/s]\n"
          ]
        },
        {
          "output_type": "stream",
          "name": "stdout",
          "text": [
            "Epoch 2/500, Loss D: 0.0000, Loss G: 11.6838\n"
          ]
        },
        {
          "output_type": "stream",
          "name": "stderr",
          "text": [
            "100%|██████████| 235/235 [00:14<00:00, 16.26it/s]\n"
          ]
        },
        {
          "output_type": "stream",
          "name": "stdout",
          "text": [
            "Epoch 3/500, Loss D: 0.0000, Loss G: 11.4222\n"
          ]
        },
        {
          "output_type": "stream",
          "name": "stderr",
          "text": [
            "100%|██████████| 235/235 [00:14<00:00, 16.05it/s]\n"
          ]
        },
        {
          "output_type": "stream",
          "name": "stdout",
          "text": [
            "Epoch 4/500, Loss D: 0.0001, Loss G: 10.5357\n"
          ]
        },
        {
          "output_type": "stream",
          "name": "stderr",
          "text": [
            "100%|██████████| 235/235 [00:14<00:00, 15.87it/s]\n"
          ]
        },
        {
          "output_type": "stream",
          "name": "stdout",
          "text": [
            "Epoch 5/500, Loss D: 0.0001, Loss G: 13.6589\n"
          ]
        },
        {
          "output_type": "stream",
          "name": "stderr",
          "text": [
            "100%|██████████| 235/235 [00:15<00:00, 15.36it/s]\n"
          ]
        },
        {
          "output_type": "stream",
          "name": "stdout",
          "text": [
            "Epoch 6/500, Loss D: 0.0000, Loss G: 12.2335\n"
          ]
        },
        {
          "output_type": "stream",
          "name": "stderr",
          "text": [
            "100%|██████████| 235/235 [00:15<00:00, 15.33it/s]\n"
          ]
        },
        {
          "output_type": "stream",
          "name": "stdout",
          "text": [
            "Epoch 7/500, Loss D: 0.0002, Loss G: 11.0951\n"
          ]
        },
        {
          "output_type": "stream",
          "name": "stderr",
          "text": [
            "100%|██████████| 235/235 [00:14<00:00, 16.17it/s]\n"
          ]
        },
        {
          "output_type": "stream",
          "name": "stdout",
          "text": [
            "Epoch 8/500, Loss D: 0.0220, Loss G: 5.2353\n"
          ]
        },
        {
          "output_type": "stream",
          "name": "stderr",
          "text": [
            "100%|██████████| 235/235 [00:14<00:00, 16.02it/s]\n"
          ]
        },
        {
          "output_type": "stream",
          "name": "stdout",
          "text": [
            "Epoch 9/500, Loss D: 0.0084, Loss G: 5.9129\n"
          ]
        },
        {
          "output_type": "stream",
          "name": "stderr",
          "text": [
            "100%|██████████| 235/235 [00:14<00:00, 16.10it/s]\n"
          ]
        },
        {
          "output_type": "stream",
          "name": "stdout",
          "text": [
            "Epoch 10/500, Loss D: 0.0276, Loss G: 5.8186\n"
          ]
        },
        {
          "output_type": "stream",
          "name": "stderr",
          "text": [
            "100%|██████████| 235/235 [00:14<00:00, 16.08it/s]\n"
          ]
        },
        {
          "output_type": "stream",
          "name": "stdout",
          "text": [
            "Epoch 11/500, Loss D: 0.0401, Loss G: 6.1740\n"
          ]
        },
        {
          "output_type": "stream",
          "name": "stderr",
          "text": [
            "100%|██████████| 235/235 [00:14<00:00, 16.15it/s]\n"
          ]
        },
        {
          "output_type": "stream",
          "name": "stdout",
          "text": [
            "Epoch 12/500, Loss D: 0.0097, Loss G: 6.5356\n"
          ]
        },
        {
          "output_type": "stream",
          "name": "stderr",
          "text": [
            "100%|██████████| 235/235 [00:15<00:00, 14.75it/s]\n"
          ]
        },
        {
          "output_type": "stream",
          "name": "stdout",
          "text": [
            "Epoch 13/500, Loss D: 0.0186, Loss G: 5.7206\n"
          ]
        },
        {
          "output_type": "stream",
          "name": "stderr",
          "text": [
            "100%|██████████| 235/235 [00:14<00:00, 15.91it/s]\n"
          ]
        },
        {
          "output_type": "stream",
          "name": "stdout",
          "text": [
            "Epoch 14/500, Loss D: 0.0271, Loss G: 5.6111\n"
          ]
        },
        {
          "output_type": "stream",
          "name": "stderr",
          "text": [
            "100%|██████████| 235/235 [00:14<00:00, 16.02it/s]\n"
          ]
        },
        {
          "output_type": "stream",
          "name": "stdout",
          "text": [
            "Epoch 15/500, Loss D: 0.1279, Loss G: 5.7684\n"
          ]
        },
        {
          "output_type": "stream",
          "name": "stderr",
          "text": [
            "100%|██████████| 235/235 [00:14<00:00, 15.93it/s]\n"
          ]
        },
        {
          "output_type": "stream",
          "name": "stdout",
          "text": [
            "Epoch 16/500, Loss D: 0.0520, Loss G: 5.7543\n"
          ]
        },
        {
          "output_type": "stream",
          "name": "stderr",
          "text": [
            "100%|██████████| 235/235 [00:14<00:00, 15.99it/s]\n"
          ]
        },
        {
          "output_type": "stream",
          "name": "stdout",
          "text": [
            "Epoch 17/500, Loss D: 0.0237, Loss G: 5.3878\n"
          ]
        },
        {
          "output_type": "stream",
          "name": "stderr",
          "text": [
            "100%|██████████| 235/235 [00:14<00:00, 15.99it/s]\n"
          ]
        },
        {
          "output_type": "stream",
          "name": "stdout",
          "text": [
            "Epoch 18/500, Loss D: 0.0308, Loss G: 6.5952\n"
          ]
        },
        {
          "output_type": "stream",
          "name": "stderr",
          "text": [
            "100%|██████████| 235/235 [00:14<00:00, 15.72it/s]\n"
          ]
        },
        {
          "output_type": "stream",
          "name": "stdout",
          "text": [
            "Epoch 19/500, Loss D: 0.4739, Loss G: 5.3146\n"
          ]
        },
        {
          "output_type": "stream",
          "name": "stderr",
          "text": [
            "100%|██████████| 235/235 [00:15<00:00, 15.35it/s]\n"
          ]
        },
        {
          "output_type": "stream",
          "name": "stdout",
          "text": [
            "Epoch 20/500, Loss D: 0.0282, Loss G: 5.9508\n"
          ]
        },
        {
          "output_type": "stream",
          "name": "stderr",
          "text": [
            "100%|██████████| 235/235 [00:14<00:00, 16.06it/s]\n"
          ]
        },
        {
          "output_type": "stream",
          "name": "stdout",
          "text": [
            "Epoch 21/500, Loss D: 0.0208, Loss G: 6.9170\n"
          ]
        },
        {
          "output_type": "stream",
          "name": "stderr",
          "text": [
            "100%|██████████| 235/235 [00:15<00:00, 15.66it/s]\n"
          ]
        },
        {
          "output_type": "stream",
          "name": "stdout",
          "text": [
            "Epoch 22/500, Loss D: 0.0531, Loss G: 4.6406\n"
          ]
        },
        {
          "output_type": "stream",
          "name": "stderr",
          "text": [
            "100%|██████████| 235/235 [00:15<00:00, 15.51it/s]\n"
          ]
        },
        {
          "output_type": "stream",
          "name": "stdout",
          "text": [
            "Epoch 23/500, Loss D: 0.0561, Loss G: 3.6861\n"
          ]
        },
        {
          "output_type": "stream",
          "name": "stderr",
          "text": [
            "100%|██████████| 235/235 [00:15<00:00, 15.07it/s]\n"
          ]
        },
        {
          "output_type": "stream",
          "name": "stdout",
          "text": [
            "Epoch 24/500, Loss D: 0.0371, Loss G: 5.0231\n"
          ]
        },
        {
          "output_type": "stream",
          "name": "stderr",
          "text": [
            "100%|██████████| 235/235 [00:16<00:00, 14.34it/s]\n"
          ]
        },
        {
          "output_type": "stream",
          "name": "stdout",
          "text": [
            "Epoch 25/500, Loss D: 0.0477, Loss G: 6.0101\n"
          ]
        },
        {
          "output_type": "stream",
          "name": "stderr",
          "text": [
            "100%|██████████| 235/235 [00:15<00:00, 14.89it/s]\n"
          ]
        },
        {
          "output_type": "stream",
          "name": "stdout",
          "text": [
            "Epoch 26/500, Loss D: 0.0517, Loss G: 6.3682\n"
          ]
        },
        {
          "output_type": "stream",
          "name": "stderr",
          "text": [
            "100%|██████████| 235/235 [00:15<00:00, 15.14it/s]\n"
          ]
        },
        {
          "output_type": "stream",
          "name": "stdout",
          "text": [
            "Epoch 27/500, Loss D: 0.0316, Loss G: 6.5129\n"
          ]
        },
        {
          "output_type": "stream",
          "name": "stderr",
          "text": [
            "100%|██████████| 235/235 [00:15<00:00, 15.34it/s]\n"
          ]
        },
        {
          "output_type": "stream",
          "name": "stdout",
          "text": [
            "Epoch 28/500, Loss D: 0.0915, Loss G: 5.3367\n"
          ]
        },
        {
          "output_type": "stream",
          "name": "stderr",
          "text": [
            "100%|██████████| 235/235 [00:15<00:00, 15.56it/s]\n"
          ]
        },
        {
          "output_type": "stream",
          "name": "stdout",
          "text": [
            "Epoch 29/500, Loss D: 0.0232, Loss G: 5.2033\n"
          ]
        },
        {
          "output_type": "stream",
          "name": "stderr",
          "text": [
            "100%|██████████| 235/235 [00:15<00:00, 14.73it/s]\n"
          ]
        },
        {
          "output_type": "stream",
          "name": "stdout",
          "text": [
            "Epoch 30/500, Loss D: 0.0600, Loss G: 6.4344\n"
          ]
        },
        {
          "output_type": "stream",
          "name": "stderr",
          "text": [
            "100%|██████████| 235/235 [00:15<00:00, 15.38it/s]\n"
          ]
        },
        {
          "output_type": "stream",
          "name": "stdout",
          "text": [
            "Epoch 31/500, Loss D: 0.0375, Loss G: 5.3137\n"
          ]
        },
        {
          "output_type": "stream",
          "name": "stderr",
          "text": [
            "100%|██████████| 235/235 [00:15<00:00, 15.12it/s]\n"
          ]
        },
        {
          "output_type": "stream",
          "name": "stdout",
          "text": [
            "Epoch 32/500, Loss D: 0.0178, Loss G: 5.5728\n"
          ]
        },
        {
          "output_type": "stream",
          "name": "stderr",
          "text": [
            "100%|██████████| 235/235 [00:15<00:00, 15.20it/s]\n"
          ]
        },
        {
          "output_type": "stream",
          "name": "stdout",
          "text": [
            "Epoch 33/500, Loss D: 0.0082, Loss G: 5.7553\n"
          ]
        },
        {
          "output_type": "stream",
          "name": "stderr",
          "text": [
            "100%|██████████| 235/235 [00:15<00:00, 15.51it/s]\n"
          ]
        },
        {
          "output_type": "stream",
          "name": "stdout",
          "text": [
            "Epoch 34/500, Loss D: 0.0177, Loss G: 5.9699\n"
          ]
        },
        {
          "output_type": "stream",
          "name": "stderr",
          "text": [
            "100%|██████████| 235/235 [00:16<00:00, 14.45it/s]\n"
          ]
        },
        {
          "output_type": "stream",
          "name": "stdout",
          "text": [
            "Epoch 35/500, Loss D: 1.9721, Loss G: 2.0614\n"
          ]
        },
        {
          "output_type": "stream",
          "name": "stderr",
          "text": [
            "100%|██████████| 235/235 [00:15<00:00, 15.51it/s]\n"
          ]
        },
        {
          "output_type": "stream",
          "name": "stdout",
          "text": [
            "Epoch 36/500, Loss D: 0.0426, Loss G: 4.9480\n"
          ]
        },
        {
          "output_type": "stream",
          "name": "stderr",
          "text": [
            "100%|██████████| 235/235 [00:15<00:00, 15.18it/s]\n"
          ]
        },
        {
          "output_type": "stream",
          "name": "stdout",
          "text": [
            "Epoch 37/500, Loss D: 0.0232, Loss G: 7.3509\n"
          ]
        },
        {
          "output_type": "stream",
          "name": "stderr",
          "text": [
            "100%|██████████| 235/235 [00:15<00:00, 15.22it/s]\n"
          ]
        },
        {
          "output_type": "stream",
          "name": "stdout",
          "text": [
            "Epoch 38/500, Loss D: 0.0549, Loss G: 5.5992\n"
          ]
        },
        {
          "output_type": "stream",
          "name": "stderr",
          "text": [
            "100%|██████████| 235/235 [00:15<00:00, 15.25it/s]\n"
          ]
        },
        {
          "output_type": "stream",
          "name": "stdout",
          "text": [
            "Epoch 39/500, Loss D: 0.0164, Loss G: 6.7302\n"
          ]
        },
        {
          "output_type": "stream",
          "name": "stderr",
          "text": [
            "100%|██████████| 235/235 [00:16<00:00, 14.29it/s]\n"
          ]
        },
        {
          "output_type": "stream",
          "name": "stdout",
          "text": [
            "Epoch 40/500, Loss D: 0.0292, Loss G: 5.8611\n"
          ]
        },
        {
          "output_type": "stream",
          "name": "stderr",
          "text": [
            "100%|██████████| 235/235 [00:15<00:00, 15.35it/s]\n"
          ]
        },
        {
          "output_type": "stream",
          "name": "stdout",
          "text": [
            "Epoch 41/500, Loss D: 0.0110, Loss G: 5.5695\n"
          ]
        },
        {
          "output_type": "stream",
          "name": "stderr",
          "text": [
            "100%|██████████| 235/235 [00:15<00:00, 15.37it/s]\n"
          ]
        },
        {
          "output_type": "stream",
          "name": "stdout",
          "text": [
            "Epoch 42/500, Loss D: 0.0341, Loss G: 4.5019\n"
          ]
        },
        {
          "output_type": "stream",
          "name": "stderr",
          "text": [
            "100%|██████████| 235/235 [00:15<00:00, 15.24it/s]\n"
          ]
        },
        {
          "output_type": "stream",
          "name": "stdout",
          "text": [
            "Epoch 43/500, Loss D: 0.0209, Loss G: 5.7745\n"
          ]
        },
        {
          "output_type": "stream",
          "name": "stderr",
          "text": [
            "100%|██████████| 235/235 [00:15<00:00, 15.45it/s]\n"
          ]
        },
        {
          "output_type": "stream",
          "name": "stdout",
          "text": [
            "Epoch 44/500, Loss D: 0.0290, Loss G: 5.7917\n"
          ]
        },
        {
          "output_type": "stream",
          "name": "stderr",
          "text": [
            "100%|██████████| 235/235 [00:16<00:00, 14.32it/s]\n"
          ]
        },
        {
          "output_type": "stream",
          "name": "stdout",
          "text": [
            "Epoch 45/500, Loss D: 0.0201, Loss G: 5.7122\n"
          ]
        },
        {
          "output_type": "stream",
          "name": "stderr",
          "text": [
            "100%|██████████| 235/235 [00:15<00:00, 15.36it/s]\n"
          ]
        },
        {
          "output_type": "stream",
          "name": "stdout",
          "text": [
            "Epoch 46/500, Loss D: 0.0259, Loss G: 4.6539\n"
          ]
        },
        {
          "output_type": "stream",
          "name": "stderr",
          "text": [
            "100%|██████████| 235/235 [00:15<00:00, 15.13it/s]\n"
          ]
        },
        {
          "output_type": "stream",
          "name": "stdout",
          "text": [
            "Epoch 47/500, Loss D: 0.0085, Loss G: 8.1200\n"
          ]
        },
        {
          "output_type": "stream",
          "name": "stderr",
          "text": [
            "100%|██████████| 235/235 [00:15<00:00, 15.45it/s]\n"
          ]
        },
        {
          "output_type": "stream",
          "name": "stdout",
          "text": [
            "Epoch 48/500, Loss D: 0.0194, Loss G: 6.1509\n"
          ]
        },
        {
          "output_type": "stream",
          "name": "stderr",
          "text": [
            "100%|██████████| 235/235 [00:15<00:00, 15.30it/s]\n"
          ]
        },
        {
          "output_type": "stream",
          "name": "stdout",
          "text": [
            "Epoch 49/500, Loss D: 0.0049, Loss G: 3.9875\n"
          ]
        },
        {
          "output_type": "stream",
          "name": "stderr",
          "text": [
            "100%|██████████| 235/235 [00:16<00:00, 14.66it/s]"
          ]
        },
        {
          "output_type": "stream",
          "name": "stdout",
          "text": [
            "Epoch 50/500, Loss D: 0.0239, Loss G: 5.0900\n"
          ]
        },
        {
          "output_type": "stream",
          "name": "stderr",
          "text": [
            "\n"
          ]
        }
      ],
      "source": [
        "for epoch in range(100):  # Add epoch loop\n",
        "    for real, _ in tqdm(loader):\n",
        "        real = real.to(device)               # Move real images to GPU (or device)\n",
        "        b = real.size(0)                     # Get batch size\n",
        "\n",
        "        # ----------------------------\n",
        "        # Generate fake images\n",
        "        # ----------------------------\n",
        "        z = torch.randn(b, z_dim, device=device)       # Sample latent vectors\n",
        "        fake = Gnet(z.view(b, z_dim, 1, 1))           # Generate fake images\n",
        "\n",
        "        # ----------------------------\n",
        "        # Discriminator loss\n",
        "        # ----------------------------\n",
        "        loss_d = crit(\n",
        "            Dnet(real), torch.ones(b,1,device=device)  # BUG: labels are swapped (real should be 1) - FIXED\n",
        "        ) + crit(\n",
        "            Dnet(fake.detach()), torch.zeros(b,1,device=device)  # BUG: labels are swapped (fake should be 0) - FIXED. Detach fake to prevent backprop through G\n",
        "        )\n",
        "\n",
        "        opt_d.zero_grad()\n",
        "        loss_d.backward()    # Backprop through discriminator\n",
        "        opt_d.step()         # BUG: wrong optimizer! Should be opt_d - FIXED\n",
        "\n",
        "        # ----------------------------\n",
        "        # Generator loss\n",
        "        # ----------------------------\n",
        "        z = torch.randn(b, z_dim, device=device)       # Sample new latent vectors\n",
        "        fake = Gnet(z.view(b, z_dim, 1, 1))           # Generate fake images\n",
        "        loss_g = crit(\n",
        "            Dnet(fake), torch.ones(b,1,device=device)  # BUG: non-saturating trick missing, wrong labels - FIXED (non-saturating trick uses real labels for fake images)\n",
        "        )\n",
        "        opt_g.zero_grad()\n",
        "        loss_g.backward()     # BUG: missing optimizer step for generator - FIXED\n",
        "        opt_g.step()\n",
        "\n",
        "    print(f\"Epoch {epoch+1}/500, Loss D: {loss_d.item():.4f}, Loss G: {loss_g.item():.4f}\") # Print epoch loss"
      ],
      "id": "8bqb3PAPNYO-"
    },
    {
      "cell_type": "code",
      "source": [
        "### CHATGPT GEENRATED CODE ###\n",
        "\n",
        "import matplotlib.pyplot as plt\n",
        "import torchvision\n",
        "\n",
        "# Function to plot a batch of images\n",
        "def show_images(real_images, fake_images, n=8):\n",
        "    \"\"\"\n",
        "    real_images, fake_images: tensors (batch_size, 1, H, W)\n",
        "    n: number of images per row\n",
        "    \"\"\"\n",
        "    # Undo normalization (if using Normalize((0.5,), (0.5,)))\n",
        "    real_images = real_images * 0.5 + 0.5\n",
        "    fake_images = fake_images * 0.5 + 0.5\n",
        "\n",
        "    # Convert to CPU and numpy for plotting\n",
        "    real_images = real_images.detach().cpu()\n",
        "    fake_images = fake_images.detach().cpu()\n",
        "\n",
        "    # Plot real images\n",
        "    plt.figure(figsize=(n*2, 4))\n",
        "    for i in range(n):\n",
        "        plt.subplot(2, n, i+1)\n",
        "        plt.imshow(real_images[i].squeeze(), cmap='gray')\n",
        "        plt.axis('off')\n",
        "        if i == 0:\n",
        "            plt.ylabel(\"Real\", fontsize=12)\n",
        "\n",
        "    # Plot fake images\n",
        "    for i in range(n):\n",
        "        plt.subplot(2, n, n+i+1)\n",
        "        plt.imshow(fake_images[i].squeeze(), cmap='gray')\n",
        "        plt.axis('off')\n",
        "        if i == 0:\n",
        "            plt.ylabel(\"Fake\", fontsize=12)\n",
        "\n",
        "    plt.tight_layout()\n",
        "    plt.show()\n",
        "\n",
        "\n",
        "# -----------------------------\n",
        "# Example usage after one batch\n",
        "# -----------------------------\n",
        "real, _ = next(iter(loader))\n",
        "real = real.to(device)\n",
        "b = real.size(0)\n",
        "\n",
        "z = torch.randn(b, z_dim, device=device)\n",
        "fake = Gnet(z.view(b, z_dim, 1, 1))\n",
        "\n",
        "show_images(real, fake, n=8)  # shows first 8 real and fake images\n"
      ],
      "metadata": {
        "colab": {
          "base_uri": "https://localhost:8080/",
          "height": 252
        },
        "id": "00Szq-FlbLz6",
        "outputId": "0fa0dac5-293c-4233-bc87-add5d2662e9a"
      },
      "id": "00Szq-FlbLz6",
      "execution_count": 24,
      "outputs": [
        {
          "output_type": "display_data",
          "data": {
            "text/plain": [
              "<Figure size 1600x400 with 16 Axes>"
            ],
            "image/png": "[encoded data removed]"
          },
          "metadata": {}
        }
      ]
    },
    {
      "cell_type": "markdown",
      "source": [
        "### The losses tell us that the discriminator is winning too easily\n",
        "GENERATOR DIFF"
      ],
      "metadata": {
        "id": "dN7X3ARCkCQ-"
      },
      "id": "dN7X3ARCkCQ-"
    }
  ],
  "metadata": {
    "kernelspec": {
      "name": "python3",
      "display_name": "Python 3"
    },
    "colab": {
      "provenance": [],
      "gpuType": "T4"
    },
    "accelerator": "GPU"
  },
  "nbformat": 4,
  "nbformat_minor": 5
}